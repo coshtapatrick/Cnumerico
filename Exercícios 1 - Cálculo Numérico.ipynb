{
 "cells": [
  {
   "cell_type": "markdown",
   "metadata": {},
   "source": [
    "Exercício 1: Determinar em cada caso, o erro absoluto, o erro relativo e qauntidade de algarismos corretos.\n",
    "\n",
    "a) x = 123 e x* = $\\frac{1106}{9}$;\n",
    "\n",
    "b) x = 1/*e* e x* = 0.3666;\n",
    "\n",
    "c) x = 2^10 e x* = 1000;\n",
    "\n",
    "d) x = 24 e x* = 48."
   ]
  },
  {
   "cell_type": "code",
   "execution_count": null,
   "metadata": {},
   "outputs": [],
   "source": [
    "from math import e\n",
    "def erro_abs(x, a):\n",
    "    print (abs(x - a))"
   ]
  },
  {
   "cell_type": "markdown",
   "metadata": {},
   "source": [
    "Exercício 2:Para cada um dos números dados abaixo determine uma aproximação com erro absoluto 0.001 e uma com erro relativo 0.001.\n",
    "\n",
    "(a) $\\pi$\n",
    "\n",
    "(b) $\\sqrt{5}$\n",
    "\n",
    "(c) $\\ln{(3)}$\n",
    "\n",
    "(d) $\\frac{10}{\\ln{(1.1)}}$\n",
    "\n"
   ]
  },
  {
   "cell_type": "markdown",
   "metadata": {},
   "source": [
    "Exercício 3: Em cada item abaixo é dada uma aproximação x* de um número x. Determine os possíveis valores de *p* quando o erro absoluto é 0.0005 e quando o erro relativo é 0.0005.\n",
    "\n",
    "(a) x* = 0.2348263818643;\n",
    "\n",
    "(b) x* = 23.89627345677;\n",
    "\n",
    "(c) x* = - 8.76257664363.\n",
    "\n"
   ]
  },
  {
   "cell_type": "markdown",
   "metadata": {},
   "source": [
    "Exercício 4: Determine x e x*, sabendo-se que x* aproxima x com erro absoluto 1/100 e erro relativo 3/100."
   ]
  },
  {
   "cell_type": "markdown",
   "metadata": {},
   "source": [
    "Exercício 5: Determine os valores de x e x* sabendo-se que x* é uma aproximação de x para a qual o erro relativo e o erro absoluto coincidem."
   ]
  }
 ],
 "metadata": {
  "kernelspec": {
   "display_name": "Python 3",
   "language": "python",
   "name": "python3"
  },
  "language_info": {
   "codemirror_mode": {
    "name": "ipython",
    "version": 3
   },
   "file_extension": ".py",
   "mimetype": "text/x-python",
   "name": "python",
   "nbconvert_exporter": "python",
   "pygments_lexer": "ipython3",
   "version": "3.7.8"
  }
 },
 "nbformat": 4,
 "nbformat_minor": 4
}
